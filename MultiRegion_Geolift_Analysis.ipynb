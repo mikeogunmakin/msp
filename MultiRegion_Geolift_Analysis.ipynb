{
  "nbformat": 4,
  "nbformat_minor": 0,
  "metadata": {
    "colab": {
      "provenance": [],
      "mount_file_id": "1JmJ9fNZ_qccu6YWyZegGZJhTvckhe4lk",
      "authorship_tag": "ABX9TyMs59/NsroFpIGPMlyath12",
      "include_colab_link": true
    },
    "kernelspec": {
      "name": "python3",
      "display_name": "Python 3"
    },
    "language_info": {
      "name": "python"
    }
  },
  "cells": [
    {
      "cell_type": "markdown",
      "metadata": {
        "id": "view-in-github",
        "colab_type": "text"
      },
      "source": [
        "<a href=\"https://colab.research.google.com/github/mikeogunmakin/msp/blob/main/MultiRegion_Geolift_Analysis.ipynb\" target=\"_parent\"><img src=\"https://colab.research.google.com/assets/colab-badge.svg\" alt=\"Open In Colab\"/></a>"
      ]
    },
    {
      "cell_type": "markdown",
      "source": [
        "#**Multi Region Geo-lift Analysis**"
      ],
      "metadata": {
        "id": "aW_trK9z0DMW"
      }
    },
    {
      "cell_type": "markdown",
      "source": [
        "When randomised experiments aren’t possible, geo-lift analysis offers a way to estimate the causal impact of interventions like advertising campaigns by treating geographical regions as experimental units. When multiple regions are exposed to a campaign, analysts can choose between two approaches:\n",
        "\n",
        "- Pooled strategy: combine treated regions into one aggregated group for a single analysis.\n",
        "\n",
        "- Unpooled strategy: analyse each treated region separately to capture regional differences."
      ],
      "metadata": {
        "id": "RlhqxF6u0VJX"
      }
    },
    {
      "cell_type": "code",
      "source": [
        "import causalpy as cp\n",
        "import pandas as pd\n",
        "import seaborn as sns\n",
        "import matplotlib.pyplot as plt\n",
        "import numpy as np"
      ],
      "metadata": {
        "id": "YEzLWDSL0JlQ"
      },
      "execution_count": null,
      "outputs": []
    },
    {
      "cell_type": "markdown",
      "source": [
        "### **Pooled Analysis Approach**"
      ],
      "metadata": {
        "id": "DBVX0E0lBXiu"
      }
    },
    {
      "cell_type": "code",
      "source": [
        "#load the data\n",
        "df = (\n",
        "    # load data from causal py library\n",
        "    cp.load_data(\"geolift_multi_cell\")\n",
        "    # convert time column to datetime and set index\n",
        "    .assign(time=lambda x: pd.to_datetime(x[\"time\"]))\n",
        "    .set_index(\"time\")\n",
        ")"
      ],
      "metadata": {
        "id": "qRpzSElX4LeW"
      },
      "execution_count": null,
      "outputs": []
    },
    {
      "cell_type": "code",
      "source": [
        "# Create the aggregate geo\n",
        "treated = [\"t1\", \"t2\", \"t3\", \"t4\"]\n",
        "df[\"treated_agg\"] = df[treated].median(axis=1)"
      ],
      "metadata": {
        "id": "wzsoWkOd67bG"
      },
      "execution_count": null,
      "outputs": []
    },
    {
      "cell_type": "code",
      "source": [
        "# Define the treatment time\n",
        "treatment_time = pd.to_datetime(\"2022-01-01\")"
      ],
      "metadata": {
        "id": "ezP0ndRt8hG4"
      },
      "execution_count": null,
      "outputs": []
    },
    {
      "cell_type": "code",
      "source": [
        "# Model the aggregate geo as a linear combination of the untreated units\n",
        "# with no intercept parameter.\n",
        "formula = \"\"\"treated_agg ~ 0 + u1 + u2 + u3 + u4 + u5 + u6 + u7 +\n",
        "             u8 + u9 + u10 + u11 + u12\"\"\""
      ],
      "metadata": {
        "id": "GCmGEUzB9egt"
      },
      "execution_count": null,
      "outputs": []
    },
    {
      "cell_type": "code",
      "source": [
        "# Run the analysis\n",
        "result = cp.SyntheticControl(\n",
        "    df,\n",
        "    treatment_time,\n",
        "    control_units = [\"u1\",\"u2\",\"u3\",\"u4\",\"u5\",\n",
        "                      \"u6\",\"u7\",\"u8\",\"u9\",\"u10\",\"u11\",\"u12\"],\n",
        "    treated_units = [\"treated_agg\"],\n",
        "    formula=formula,\n",
        "    model=cp.pymc_models.WeightedSumFitter(\n",
        "        sample_kwargs={\"target_accept\": 0.95, \"random_seed\": 42}\n",
        "    ),\n",
        ")"
      ],
      "metadata": {
        "id": "j_v3_QHs9pTl"
      },
      "execution_count": null,
      "outputs": []
    },
    {
      "cell_type": "code",
      "source": [
        "result.plot()"
      ],
      "metadata": {
        "id": "c-UIIcrQAVDy"
      },
      "execution_count": null,
      "outputs": []
    },
    {
      "cell_type": "markdown",
      "source": [
        "###**Unpooled analysis Approach**"
      ],
      "metadata": {
        "id": "wINKoRe_B4bu"
      }
    },
    {
      "cell_type": "code",
      "source": [
        "#t1\n",
        "\n",
        "result_t1 = cp.SyntheticControl(\n",
        "    df,\n",
        "    treatment_time,\n",
        "    control_units = [\"u1\",\"u2\",\"u3\",\"u4\",\"u5\",\n",
        "                      \"u6\",\"u7\",\"u8\",\"u9\",\"u10\",\"u11\",\"u12\"],\n",
        "    treated_units = [\"t1\"],\n",
        "    formula=formula,\n",
        "    model=cp.pymc_models.WeightedSumFitter(\n",
        "        sample_kwargs={\"target_accept\": 0.95, \"random_seed\": 42}\n",
        "    ),\n",
        "  )"
      ],
      "metadata": {
        "id": "-kzmXIJbLNrG"
      },
      "execution_count": null,
      "outputs": []
    },
    {
      "cell_type": "code",
      "source": [
        "#t2\n",
        "\n",
        "result_t2 = cp.SyntheticControl(\n",
        "    df,\n",
        "    treatment_time,\n",
        "    control_units = [\"u1\",\"u2\",\"u3\",\"u4\",\"u5\",\n",
        "                      \"u6\",\"u7\",\"u8\",\"u9\",\"u10\",\"u11\",\"u12\"],\n",
        "    treated_units = [\"t2\"],\n",
        "    formula=formula,\n",
        "    model=cp.pymc_models.WeightedSumFitter(\n",
        "        sample_kwargs={\"target_accept\": 0.95, \"random_seed\": 42}\n",
        "    ),\n",
        "  )"
      ],
      "metadata": {
        "id": "N2mbJb1JLaEG"
      },
      "execution_count": null,
      "outputs": []
    },
    {
      "cell_type": "code",
      "source": [
        "#t3\n",
        "\n",
        "result_t3 = cp.SyntheticControl(\n",
        "    df,\n",
        "    treatment_time,\n",
        "    control_units = [\"u1\",\"u2\",\"u3\",\"u4\",\"u5\",\n",
        "                      \"u6\",\"u7\",\"u8\",\"u9\",\"u10\",\"u11\",\"u12\"],\n",
        "    treated_units = [\"t3\"],\n",
        "    formula=formula,\n",
        "    model=cp.pymc_models.WeightedSumFitter(\n",
        "        sample_kwargs={\"target_accept\": 0.95, \"random_seed\": 42}\n",
        "    ),\n",
        "  )"
      ],
      "metadata": {
        "id": "SWTpgeDTLiZ1"
      },
      "execution_count": null,
      "outputs": []
    },
    {
      "cell_type": "code",
      "source": [
        "#t4\n",
        "\n",
        "result_t4 = cp.SyntheticControl(\n",
        "    df,\n",
        "    treatment_time,\n",
        "    control_units = [\"u1\",\"u2\",\"u3\",\"u4\",\"u5\",\n",
        "                      \"u6\",\"u7\",\"u8\",\"u9\",\"u10\",\"u11\",\"u12\"],\n",
        "    treated_units = [\"t4\"],\n",
        "    formula=formula,\n",
        "    model=cp.pymc_models.WeightedSumFitter(\n",
        "        sample_kwargs={\"target_accept\": 0.95, \"random_seed\": 42}\n",
        "    ),\n",
        "  )"
      ],
      "metadata": {
        "id": "f1RLom65LmSq"
      },
      "execution_count": null,
      "outputs": []
    },
    {
      "cell_type": "markdown",
      "source": [
        "### Plots"
      ],
      "metadata": {
        "id": "hvcsPKjoLpvU"
      }
    },
    {
      "cell_type": "code",
      "source": [
        "result_t1.plot()\n",
        "plt.show()"
      ],
      "metadata": {
        "id": "iTwUXLagLq9w"
      },
      "execution_count": null,
      "outputs": []
    },
    {
      "cell_type": "code",
      "source": [
        "result_t2.plot()\n",
        "plt.show()"
      ],
      "metadata": {
        "id": "8FmbR8EMLuqY"
      },
      "execution_count": null,
      "outputs": []
    },
    {
      "cell_type": "code",
      "source": [
        "result_t3.plot()\n",
        "plt.show()"
      ],
      "metadata": {
        "id": "MktcTJBfLv8a"
      },
      "execution_count": null,
      "outputs": []
    },
    {
      "cell_type": "code",
      "source": [
        "result_t4.plot()\n",
        "plt.show()"
      ],
      "metadata": {
        "id": "nta5QaYxLxKz"
      },
      "execution_count": null,
      "outputs": []
    },
    {
      "cell_type": "markdown",
      "source": [
        "The pooled approach might be most appropriate when we have implemented the same kind (and magnitude) of intervention across multiple regions.\n",
        "\n",
        "The unpooled approach however might be best used if we have used different kinds of interventions across each treatment region as we’ll get individual estimates for the lift in each treated geo.\n",
        "\n",
        "\n",
        "## References\n",
        "\n",
        "- https://drbenvincent.medium.com/multi-region-geo-lift-analysis-c4369fb674d9"
      ],
      "metadata": {
        "id": "50bYCZLHGmJ1"
      }
    }
  ]
}